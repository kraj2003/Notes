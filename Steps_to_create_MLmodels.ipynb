{
 "cells": [
  {
   "cell_type": "markdown",
   "id": "ad3fac42",
   "metadata": {},
   "source": [
    "# Steps for executing any Data science Projects"
   ]
  },
  {
   "cell_type": "markdown",
   "id": "c59ec965",
   "metadata": {},
   "source": [
    "## Life cycle of Machine learning Project\n",
    "+ Understanding the Problem Statement\n",
    "+ Data Collection\n",
    "+ Data Checks to perform\n",
    "+ Exploratory data analysis\n",
    "+ Data Pre-Processing\n",
    "+ Model Training\n",
    "+ Choose best model"
   ]
  },
  {
   "cell_type": "code",
   "execution_count": null,
   "id": "340fcc45",
   "metadata": {},
   "outputs": [],
   "source": []
  }
 ],
 "metadata": {
  "kernelspec": {
   "display_name": "Python 3 (ipykernel)",
   "language": "python",
   "name": "python3"
  },
  "language_info": {
   "codemirror_mode": {
    "name": "ipython",
    "version": 3
   },
   "file_extension": ".py",
   "mimetype": "text/x-python",
   "name": "python",
   "nbconvert_exporter": "python",
   "pygments_lexer": "ipython3",
   "version": "3.11.5"
  }
 },
 "nbformat": 4,
 "nbformat_minor": 5
}
